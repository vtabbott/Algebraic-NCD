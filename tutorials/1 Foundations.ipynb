{
 "cells": [
  {
   "cell_type": "code",
   "execution_count": 11,
   "metadata": {},
   "outputs": [],
   "source": [
    "import ncd\n",
    "from ncd import shape"
   ]
  },
  {
   "cell_type": "markdown",
   "metadata": {},
   "source": [
    "### Foundations of Neural Circuit Diagram Algebraic Operations\n",
    "*Neural Circuit Diagrams* are constructed from terms called ``Shape``s which represent either data types such as $\\mathbb{R}^{a \\times c} \\times \\mathbb{R}^{x}$ or operations such as $f: \\mathbb{R}^{a \\times b} \\rightarrow \\mathbb{R}^{c}$. For each data type $a$, there is an identity operation $a: a \\rightarrow a$. This means that data types can be uniquely identified by their identity operation."
   ]
  },
  {
   "cell_type": "code",
   "execution_count": 12,
   "metadata": {},
   "outputs": [
    {
     "name": "stdout",
     "output_type": "stream",
     "text": [
      "Type:                 ([\u001b[36m\u001b[4ma\u001b[0m \u001b[36m\u001b[4mb\u001b[0m→], \u001b[36m\u001b[4mc\u001b[0m)\n",
      "Operation:            [\u001b[36m\u001b[4ma\u001b[0m \u001b[36m\u001b[4mb\u001b[0m→]--\u001b[32m\u001b[4mf\u001b[0m->[\u001b[36m\u001b[4mc\u001b[0m→]\n"
     ]
    }
   ],
   "source": [
    "# The ``shape`` function allows shapes to be built from strings.\n",
    "#   A, B     -> Tuple of A, B (displayed as (A, B))\n",
    "#   A B      -> R^(A B)       (displayed as [A B→])\n",
    "#   A^       -> R^A           (displayed as [A→])\n",
    "a = shape('a b, c')\n",
    "f = shape('f:a b -> c^')\n",
    "print('Type:                ', repr(a))\n",
    "print('Operation:           ', repr(f))"
   ]
  },
  {
   "cell_type": "code",
   "execution_count": 13,
   "metadata": {},
   "outputs": [
    {
     "name": "stdout",
     "output_type": "stream",
     "text": [
      "Cartesian Type:       ([\u001b[36m\u001b[4ma\u001b[0m \u001b[36m\u001b[4mb\u001b[0m→], \u001b[36m\u001b[4mx\u001b[0m)--(\u001b[32m\u001b[4mf\u001b[0m, \u001b[36m\u001b[4mx\u001b[0m)->([\u001b[36m\u001b[4mc\u001b[0m→], \u001b[36m\u001b[4mx\u001b[0m)\n",
      "Cartesian Operation:  ([\u001b[36m\u001b[4ma\u001b[0m \u001b[36m\u001b[4mb\u001b[0m→], \u001b[36m\u001b[4mx\u001b[0m)--(\u001b[32m\u001b[4mf\u001b[0m, \u001b[32m\u001b[4mg\u001b[0m)->([\u001b[36m\u001b[4mc\u001b[0m→], \u001b[36m\u001b[4my\u001b[0m)\n"
     ]
    }
   ],
   "source": [
    "# Shapes can be used to construct new shapes through various operations.\n",
    "# These operations are often functorial - accepting both data types and\n",
    "# operations, while preserving composition.\n",
    "\n",
    "# Cartesian product (+) - this assembles shapes into tuples.\n",
    "#   As the first expression is a shape, the second is converted from a string to a shape.\n",
    "print('Cartesian Type:      ', repr(f + 'x'))\n",
    "#   Combining operations gives an operation which acts on independent segments.\n",
    "print('Cartesian Operation: ', repr(f + 'g:x -> y'))"
   ]
  },
  {
   "cell_type": "code",
   "execution_count": 14,
   "metadata": {},
   "outputs": [
    {
     "name": "stdout",
     "output_type": "stream",
     "text": [
      "Lifting to the right:   [\u001b[36m\u001b[4ma\u001b[0m \u001b[36m\u001b[4mb\u001b[0m \u001b[36m\u001b[4mx\u001b[0m→]--[\u001b[32m\u001b[4mf\u001b[0m←\u001b[36m\u001b[4mx\u001b[0m]->[\u001b[36m\u001b[4mc\u001b[0m \u001b[36m\u001b[4mx\u001b[0m→]\n",
      "Lifting from the left:  [\u001b[36m\u001b[4mx\u001b[0m \u001b[36m\u001b[4ma\u001b[0m \u001b[36m\u001b[4mb\u001b[0m→]--[\u001b[36m\u001b[4mx\u001b[0m→\u001b[32m\u001b[4mf\u001b[0m]->[\u001b[36m\u001b[4mx\u001b[0m \u001b[36m\u001b[4mc\u001b[0m→]\n",
      "Lifting by an Operation: [\u001b[36m\u001b[4my\u001b[0m \u001b[36m\u001b[4ma\u001b[0m \u001b[36m\u001b[4mb\u001b[0m→]--[\u001b[32m\u001b[4mg\u001b[0m→\u001b[32m\u001b[4mf\u001b[0m]->[\u001b[36m\u001b[4mx\u001b[0m \u001b[36m\u001b[4mc\u001b[0m→]\n"
     ]
    }
   ],
   "source": [
    "# Hom-functor / Lifting (>> / <<) - this lifts a shape, taking (b >> R^a) = R^(b a)\n",
    "#   We use EXPONENT >> BASE to add to lift to the left,\n",
    "#       and BASE << EXPONENT to lift to the right.\n",
    "#       This lets us clearly indicate the axes on which f is applied.\n",
    "#   Note that R^x (displayed as '[x→]') is different to 'x'. 'x' represents a generic\n",
    "#   axis, typically of some integer size.\n",
    "print('Lifting to the right:  ', repr(f << 'x'))\n",
    "print('Lifting from the left: ', repr(shape('x') >> f))\n",
    "\n",
    "#   Lifting by an operation yields a natural transformation, an operation on the indexes.\n",
    "#   The lifting operation's types are reversed. \n",
    "#       (g: x -> y) >> (f: [a b→] -> c^) = ([g→f]: y a b -> x c)\n",
    "print('Lifting by an Operation:', repr(shape('g:x->y') >> f))"
   ]
  },
  {
   "cell_type": "code",
   "execution_count": 15,
   "metadata": {},
   "outputs": [
    {
     "name": "stdout",
     "output_type": "stream",
     "text": [
      "([\u001b[36m\u001b[4ma\u001b[0m \u001b[36m\u001b[4mb\u001b[0m→], [\u001b[36m\u001b[4mc\u001b[0m→])\n",
      "([\u001b[36m\u001b[4mx\u001b[0m \u001b[36m\u001b[4ma\u001b[0m \u001b[36m\u001b[4mb\u001b[0m→], [\u001b[36m\u001b[4mx\u001b[0m \u001b[36m\u001b[4mc\u001b[0m→])\n"
     ]
    }
   ],
   "source": [
    "# Algebraic rules are often distributive.\n",
    "#   Lifting spreads over Cartesian products.\n",
    "ab, c = shape('a b'), shape('c^')\n",
    "print(ab + c)\n",
    "x = shape('x')\n",
    "print(x >> (ab + c))"
   ]
  },
  {
   "cell_type": "code",
   "execution_count": 16,
   "metadata": {},
   "outputs": [
    {
     "name": "stdout",
     "output_type": "stream",
     "text": [
      "[\u001b[34mm\u001b[0m=\u001b[33mm.AE\u001b[0m→]\n",
      "[\u001b[34mm\u001b[0m=\u001b[33mm.AE\u001b[0m→]--\u001b[32m\u001b[4mh\u001b[0m->[\u001b[34mm\u001b[0m=\u001b[33mm.AE\u001b[0m→]\n",
      "[\u001b[36m\u001b[4ma\u001b[0m \u001b[36m\u001b[4mb\u001b[0m→]--\u001b[32m\u001b[4mf\u001b[0m->[\u001b[36m\u001b[4mc\u001b[0m→]--\u001b[32m\u001b[4mh\u001b[0m->[\u001b[36m\u001b[4mc\u001b[0m→]\n"
     ]
    }
   ],
   "source": [
    "# Configurables are generic shapes. When composed with another shape, a configuration\n",
    "# is generated which aligns the configurable with that shape. This allows sizes to \n",
    "# be contextually derived.\n",
    "#   When there are multiple configurables with the same name, they are displayed\n",
    "# with their unique key.\n",
    "m = shape('*m^')\n",
    "m2 = shape('*m^')\n",
    "print(repr(m))\n",
    "h = ncd.Variant('h', m, m)\n",
    "print(repr(h))\n",
    "print(repr(f @ h))"
   ]
  },
  {
   "cell_type": "code",
   "execution_count": 17,
   "metadata": {},
   "outputs": [
    {
     "name": "stdout",
     "output_type": "stream",
     "text": [
      "\u001b[36m\u001b[4ma\u001b[0m--\u001b[32m\u001b[4mh\u001b[0m->\u001b[36m\u001b[4mb\u001b[0m--Δ2\u001b[36m\u001b[4mb\u001b[0m->(\u001b[36m\u001b[4mb\u001b[0m, \u001b[36m\u001b[4mb\u001b[0m)--(\u001b[32m\u001b[4mf\u001b[0m, \u001b[32m\u001b[4mg\u001b[0m)->(\u001b[36m\u001b[4mc\u001b[0m, \u001b[36m\u001b[4md\u001b[0m)\n"
     ]
    }
   ],
   "source": [
    "# In addition to configurables being aligned on composition, various other\n",
    "#   broadcasting rules exist, modifying shapes to allow them to compose.\n",
    "\n",
    "# If we compose a non-Cartesian shape with a Cartesian product,\n",
    "#   then we introduce an intermediate Duplicate operation.\n",
    "h = shape('h: a -> b')\n",
    "f = shape('f: b -> c')\n",
    "g = shape('g: b -> d')\n",
    "print(repr(h @ (f + g)))"
   ]
  },
  {
   "cell_type": "code",
   "execution_count": 18,
   "metadata": {},
   "outputs": [
    {
     "name": "stdout",
     "output_type": "stream",
     "text": [
      "(\u001b[36m\u001b[4ma\u001b[0m, \u001b[36m\u001b[4mc\u001b[0m)--(\u001b[32m\u001b[4mh\u001b[0m, \u001b[32m\u001b[4mf\u001b[0m)->(\u001b[36m\u001b[4mb\u001b[0m, \u001b[36m\u001b[4mb\u001b[0m)--(\u001b[32m\u001b[4mg\u001b[0m, \u001b[32m\u001b[4mg\u001b[0m)->(\u001b[36m\u001b[4md\u001b[0m, \u001b[36m\u001b[4md\u001b[0m)\n"
     ]
    }
   ],
   "source": [
    "# Similarly, a Cartesian shape followed by a singular shape will\n",
    "#   have the second shape duplicated into a Cartesian product\n",
    "#   with itself.\n",
    "h = shape('h: a -> b')\n",
    "f = shape('f: c -> b')\n",
    "g = shape('g: b -> d')\n",
    "print(repr((h + f) @ g))"
   ]
  },
  {
   "cell_type": "code",
   "execution_count": 19,
   "metadata": {},
   "outputs": [
    {
     "name": "stdout",
     "output_type": "stream",
     "text": [
      "\u001b[36m\u001b[4mp\u001b[0m--\u001b[32m\u001b[4mf\u001b[0m->[\u001b[36m\u001b[4mx\u001b[0m→\u001b[36m\u001b[4mb\u001b[0m]\n",
      "\u001b[36m\u001b[4mb\u001b[0m--\u001b[32m\u001b[4mg\u001b[0m->\u001b[36m\u001b[4mq\u001b[0m\n",
      "\u001b[36m\u001b[4mp\u001b[0m--\u001b[32m\u001b[4mf\u001b[0m->[\u001b[36m\u001b[4mx\u001b[0m→\u001b[36m\u001b[4mb\u001b[0m]--[\u001b[36m\u001b[4mx\u001b[0m→\u001b[32m\u001b[4mg\u001b[0m]->[\u001b[36m\u001b[4mx\u001b[0m→\u001b[36m\u001b[4mq\u001b[0m]\n"
     ]
    }
   ],
   "source": [
    "# f: p -> [x→b] and g: b -> q do not compose, as [x→b] =/= b.\n",
    "# However, we can lift g by x and make them composable!\n",
    "f = shape('f: p -> x^b')\n",
    "g = shape('g: b -> q')\n",
    "print(repr(f))\n",
    "print(repr(g))\n",
    "print(repr(f @ g))"
   ]
  }
 ],
 "metadata": {
  "kernelspec": {
   "display_name": "Python 3",
   "language": "python",
   "name": "python3"
  },
  "language_info": {
   "codemirror_mode": {
    "name": "ipython",
    "version": 3
   },
   "file_extension": ".py",
   "mimetype": "text/x-python",
   "name": "python",
   "nbconvert_exporter": "python",
   "pygments_lexer": "ipython3",
   "version": "3.12.3"
  }
 },
 "nbformat": 4,
 "nbformat_minor": 2
}
