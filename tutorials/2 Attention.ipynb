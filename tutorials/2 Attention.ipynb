{
 "cells": [
  {
   "cell_type": "code",
   "execution_count": 1,
   "metadata": {},
   "outputs": [],
   "source": [
    "import ncd\n",
    "from ncd import shape"
   ]
  },
  {
   "cell_type": "markdown",
   "metadata": {},
   "source": [
    "## Dot-Product Attention\n",
    "Using *Neural Circuit Diagrams* we can represent dot-product attention by;\n",
    "\n",
    "<img src=\"Graphics/attention.png\" width=\"700\">\n",
    "\n",
    "Each vertical section of a diagram corresponds to a shape. Columns either represent the data type we are working with, or an operation between data types. Solid lines represent axes and dashed lines separating terms represent Cartesian products. Placing a solid line adjacent to an operation, without separation, lifts it. Wirings represent Einstein operations, which includes linear contractions and rearrangements."
   ]
  },
  {
   "cell_type": "code",
   "execution_count": 2,
   "metadata": {},
   "outputs": [],
   "source": [
    "def display_columns(target: ncd.Shape, name = None):\n",
    "    columns = '\\n'.join([\n",
    "        f'Domain:   {target.dom}',\n",
    "        *(f'Morphism: {x}\\n' + \n",
    "          f'Object:   {x.cod}' \n",
    "        for x in ncd.Composed.get_content(target))\n",
    "    ])\n",
    "    if name:\n",
    "        columns = name + '\\n' + columns\n",
    "    return columns"
   ]
  },
  {
   "cell_type": "code",
   "execution_count": 3,
   "metadata": {},
   "outputs": [
    {
     "name": "stdout",
     "output_type": "stream",
     "text": [
      "Printout of Individual Sections;\n",
      "Linears\n",
      "Domain:   [\u001b[36m\u001b[4mx\u001b[0m \u001b[36m\u001b[4mm\u001b[0m→]\n",
      "Morphism: [\u001b[36m\u001b[4mx\u001b[0m \u001b[36m\u001b[4mm\u001b[0m→Δ3]\n",
      "Object:   ([\u001b[36m\u001b[4mx\u001b[0m \u001b[36m\u001b[4mm\u001b[0m→], [\u001b[36m\u001b[4mx\u001b[0m \u001b[36m\u001b[4mm\u001b[0m→], [\u001b[36m\u001b[4mx\u001b[0m \u001b[36m\u001b[4mm\u001b[0m→])\n",
      "Morphism: ([\u001b[36m\u001b[4mx\u001b[0m→Lq], [\u001b[36m\u001b[4mx\u001b[0m→Lk], [\u001b[36m\u001b[4mx\u001b[0m→Lv])\n",
      "Object:   ([\u001b[36m\u001b[4mx\u001b[0m \u001b[36m\u001b[4mk\u001b[0m→], [\u001b[36m\u001b[4mx\u001b[0m \u001b[36m\u001b[4mk\u001b[0m→], [\u001b[36m\u001b[4mx\u001b[0m \u001b[36m\u001b[4mk\u001b[0m→])\n",
      "Einops\n",
      "Domain:   ([\u001b[34my\u001b[0m=\u001b[33my.CC\u001b[0m \u001b[34mk\u001b[0m=\u001b[33mk.DC\u001b[0m→], [\u001b[34mx\u001b[0m=\u001b[33mx.F7\u001b[0m \u001b[34mk\u001b[0m=\u001b[33mk.DC\u001b[0m→])\n",
      "Morphism: \u001b[32m\u001b[4my k, x k -> y x\u001b[0m\n",
      "Object:   [\u001b[34my\u001b[0m=\u001b[33my.CC\u001b[0m \u001b[34mx\u001b[0m=\u001b[33mx.F7\u001b[0m→]\n",
      "SoftMax\n",
      "Domain:   [\u001b[36m\u001b[4mx\u001b[0m \u001b[34m*\u001b[0m=\u001b[33m*.B1\u001b[0m→]\n",
      "Morphism: [\u001b[36m\u001b[4mx\u001b[0m→\u001b[32m\u001b[4m◁\u001b[0m]\n",
      "Object:   [\u001b[36m\u001b[4mx\u001b[0m \u001b[34m*\u001b[0m=\u001b[33m*.B1\u001b[0m→]\n",
      "Einops\n",
      "Domain:   ([\u001b[34my\u001b[0m=\u001b[33my.45\u001b[0m \u001b[34mx\u001b[0m=\u001b[33mx.DA\u001b[0m→], [\u001b[34mx\u001b[0m=\u001b[33mx.DA\u001b[0m \u001b[34mk\u001b[0m=\u001b[33mk.F1\u001b[0m→])\n",
      "Morphism: \u001b[32m\u001b[4my x, x k -> y k\u001b[0m\n",
      "Object:   [\u001b[34my\u001b[0m=\u001b[33my.45\u001b[0m \u001b[34mk\u001b[0m=\u001b[33mk.F1\u001b[0m→]\n",
      "Linear\n",
      "Domain:   \u001b[34m*\u001b[0m=\u001b[33m*.FB\u001b[0m\n",
      "Morphism: Lo\n",
      "Object:   [\u001b[36m\u001b[4mm\u001b[0m→]\n"
     ]
    }
   ],
   "source": [
    "from ncd import Duplicate\n",
    "from ncd.nn import Einops, Linear, Addition, SoftMax\n",
    "from itertools import starmap\n",
    "\n",
    "L = Linear\n",
    "\n",
    "x = shape('x')\n",
    "m = shape('m^')\n",
    "# Copying is implicit\n",
    "linears = x >> (m @ (L('q') + L('k') + L('v')) @ 'k^')\n",
    "# The axis names for einops are simply used as tags, which are attached\n",
    "# to configurations.\n",
    "ein1 = Einops('y k, x k -> y x')\n",
    "softmax = x >> SoftMax()\n",
    "ein2 = Einops('y x, x k -> y k')\n",
    "linOut = L('o') @ m\n",
    "\n",
    "# Note, the printout will contain tagged axes. These are configured\n",
    "# upon composition.\n",
    "section_names = ['Linears', 'Einops', 'SoftMax', 'Einops', 'Linear']\n",
    "sections = [linears, ein1, softmax, ein2, linOut]\n",
    "print(\"Printout of Individual Sections;\")\n",
    "print('\\n'.join(starmap(display_columns, zip(sections, section_names))))"
   ]
  },
  {
   "cell_type": "code",
   "execution_count": 4,
   "metadata": {},
   "outputs": [
    {
     "name": "stdout",
     "output_type": "stream",
     "text": [
      "\n",
      "Printout of Composed Expression;\n",
      "Domain:   [\u001b[36m\u001b[4mx\u001b[0m \u001b[36m\u001b[4mm\u001b[0m→]\n",
      "Morphism: [\u001b[36m\u001b[4mx\u001b[0m \u001b[36m\u001b[4mm\u001b[0m→Δ3]\n",
      "Object:   ([\u001b[36m\u001b[4mx\u001b[0m \u001b[36m\u001b[4mm\u001b[0m→], [\u001b[36m\u001b[4mx\u001b[0m \u001b[36m\u001b[4mm\u001b[0m→], [\u001b[36m\u001b[4mx\u001b[0m \u001b[36m\u001b[4mm\u001b[0m→])\n",
      "Morphism: ([\u001b[36m\u001b[4mx\u001b[0m→Lq], [\u001b[36m\u001b[4mx\u001b[0m→Lk], [\u001b[36m\u001b[4mx\u001b[0m→Lv])\n",
      "Object:   ([\u001b[36m\u001b[4mx\u001b[0m \u001b[36m\u001b[4mk\u001b[0m→], [\u001b[36m\u001b[4mx\u001b[0m \u001b[36m\u001b[4mk\u001b[0m→], [\u001b[36m\u001b[4mx\u001b[0m \u001b[36m\u001b[4mk\u001b[0m→])\n",
      "Morphism: (\u001b[32m\u001b[4my k, x k -> y x\u001b[0m, [\u001b[36m\u001b[4mx\u001b[0m \u001b[36m\u001b[4mk\u001b[0m→])\n",
      "Object:   ([\u001b[36m\u001b[4mx\u001b[0m \u001b[36m\u001b[4mx\u001b[0m→], [\u001b[36m\u001b[4mx\u001b[0m \u001b[36m\u001b[4mk\u001b[0m→])\n",
      "Morphism: ([\u001b[36m\u001b[4mx\u001b[0m→\u001b[32m\u001b[4m◁\u001b[0m], [\u001b[36m\u001b[4mx\u001b[0m \u001b[36m\u001b[4mk\u001b[0m→])\n",
      "Object:   ([\u001b[36m\u001b[4mx\u001b[0m \u001b[36m\u001b[4mx\u001b[0m→], [\u001b[36m\u001b[4mx\u001b[0m \u001b[36m\u001b[4mk\u001b[0m→])\n",
      "Morphism: \u001b[32m\u001b[4my x, x k -> y k\u001b[0m\n",
      "Object:   [\u001b[36m\u001b[4mx\u001b[0m \u001b[36m\u001b[4mk\u001b[0m→]\n",
      "Morphism: Lo\n",
      "Object:   [\u001b[36m\u001b[4mm\u001b[0m→]\n"
     ]
    }
   ],
   "source": [
    "attention = linears @ (ein1 @ softmax + '*') @ ein2 @ linOut\n",
    "print(\"\\nPrintout of Composed Expression;\")\n",
    "print(display_columns(attention))"
   ]
  },
  {
   "cell_type": "code",
   "execution_count": 5,
   "metadata": {},
   "outputs": [
    {
     "name": "stdout",
     "output_type": "stream",
     "text": [
      "Domain:   [\u001b[34mx\u001b[0m=\u001b[33mx.F9\u001b[0m \u001b[34mm\u001b[0m=\u001b[33mm\u001b[0m→]\n",
      "Morphism: [\u001b[34mx\u001b[0m=\u001b[33mx.F9\u001b[0m \u001b[34mm\u001b[0m=\u001b[33mm\u001b[0m→Δ3]\n",
      "Object:   ([\u001b[34mx\u001b[0m=\u001b[33mx.F9\u001b[0m \u001b[34mm\u001b[0m=\u001b[33mm\u001b[0m→], [\u001b[34mx\u001b[0m=\u001b[33mx.F9\u001b[0m \u001b[34mm\u001b[0m=\u001b[33mm\u001b[0m→], [\u001b[34mx\u001b[0m=\u001b[33mx.F9\u001b[0m \u001b[34mm\u001b[0m=\u001b[33mm\u001b[0m→])\n",
      "Morphism: ([\u001b[34mx\u001b[0m=\u001b[33mx.F9\u001b[0m→Lq], [\u001b[34mx\u001b[0m=\u001b[33mx.F9\u001b[0m→Lk], [\u001b[34mx\u001b[0m=\u001b[33mx.F9\u001b[0m→Lv])\n",
      "Object:   ([\u001b[34mx\u001b[0m=\u001b[33mx.F9\u001b[0m \u001b[34mk\u001b[0m=\u001b[33mk.23\u001b[0m→], [\u001b[34mx\u001b[0m=\u001b[33mx.F9\u001b[0m \u001b[34mk\u001b[0m=\u001b[33mk.23\u001b[0m→], [\u001b[34mx\u001b[0m=\u001b[33mx.F9\u001b[0m \u001b[34mk\u001b[0m=\u001b[33mk.23\u001b[0m→])\n",
      "Morphism: (\u001b[32m\u001b[4my k, x k -> y x\u001b[0m, [\u001b[34mx\u001b[0m=\u001b[33mx.F9\u001b[0m \u001b[34mk\u001b[0m=\u001b[33mk.23\u001b[0m→])\n",
      "Object:   ([\u001b[34mx\u001b[0m=\u001b[33mx.F9\u001b[0m \u001b[34mx\u001b[0m=\u001b[33mx.F9\u001b[0m→], [\u001b[34mx\u001b[0m=\u001b[33mx.F9\u001b[0m \u001b[34mk\u001b[0m=\u001b[33mk.23\u001b[0m→])\n",
      "Morphism: ([\u001b[34mx\u001b[0m=\u001b[33mx.F9\u001b[0m→\u001b[32m\u001b[4m◁\u001b[0m], [\u001b[34mx\u001b[0m=\u001b[33mx.F9\u001b[0m \u001b[34mk\u001b[0m=\u001b[33mk.23\u001b[0m→])\n",
      "Object:   ([\u001b[34mx\u001b[0m=\u001b[33mx.F9\u001b[0m \u001b[34mx\u001b[0m=\u001b[33mx.F9\u001b[0m→], [\u001b[34mx\u001b[0m=\u001b[33mx.F9\u001b[0m \u001b[34mk\u001b[0m=\u001b[33mk.23\u001b[0m→])\n",
      "Morphism: \u001b[32m\u001b[4my x, x k -> y k\u001b[0m\n",
      "Object:   [\u001b[34mx\u001b[0m=\u001b[33mx.F9\u001b[0m \u001b[34mk\u001b[0m=\u001b[33mk.23\u001b[0m→]\n",
      "Morphism: Lo\n",
      "Object:   [\u001b[34mm\u001b[0m=\u001b[33mm\u001b[0m→]\n"
     ]
    }
   ],
   "source": [
    "# We can use the marches package to disassemble an algebraic expression into\n",
    "#   a graph, and to then compile it into code. Currently, PyTorch is supported.\n",
    "import ncd.marches\n",
    "\n",
    "# We redefine the expression using configurable axes so that the '__init__'\n",
    "# function knows which configuration parameters are required.\n",
    "x_conf = ncd.Conf('x')\n",
    "m_conf = ncd.Conf('m')\n",
    "k_conf = ncd.Conf('k')\n",
    "\n",
    "# We use a functor which remaps objects to make them configurable.\n",
    "make_configurable = ncd.DictFunctor({\n",
    "    shape('x'): x_conf,\n",
    "    shape('m'): m_conf,\n",
    "    shape('k'): k_conf})\n",
    "\n",
    "# See if our functor worked ie succesfully mapped set objects to\n",
    "# configurable objects.\n",
    "print(display_columns(make_configurable(attention)))"
   ]
  },
  {
   "cell_type": "code",
   "execution_count": 6,
   "metadata": {},
   "outputs": [
    {
     "name": "stdout",
     "output_type": "stream",
     "text": [
      "class Attention(nn.Module):\n",
      "    def __init__(self, k, m, x):\n",
      "        self.Lq = Multilinear((m),(k))\n",
      "        self.Lk = Multilinear((m),(k))\n",
      "        self.Lv = Multilinear((m),(k))\n",
      "        self.Lo = Multilinear((x, k),(m))\n",
      "    def forward(self, a):\n",
      "        a, b, c = a, a, a\n",
      "        a = Lq(a)\n",
      "        b = Lk(b)\n",
      "        c = Lv(c)\n",
      "        a = einops.einsum(a, b, \"y k, x k -> y x\")\n",
      "        a = torch.softmax(a, dim=-1)\n",
      "        a = einops.einsum(a, c, \"y x, x k -> y k\")\n",
      "        a = Lo(a)\n",
      "        return a\n"
     ]
    }
   ],
   "source": [
    "# It did! So we can compile it, with a correct __init__ function.\n",
    "# 'Multilinear' is found in ncd.torch_utilities\n",
    "print(ncd.marches.to_torch(make_configurable(attention), \"Attention\"))"
   ]
  },
  {
   "cell_type": "markdown",
   "metadata": {},
   "source": [
    "## Multi-Head Dot Product Attention\n",
    "We represent the more intricate multi-head dot-product attention by;\n",
    "\n",
    "<img src=\"Graphics/multihead.png\" width=\"700\">\n",
    "\n",
    "This diagram has an additional $h$ axis. The linear layers output data of size ``k h``, there is additional wiring for the Einops, and the SoftMax is lifted below. We can implement these changes using our algebraic tools."
   ]
  },
  {
   "cell_type": "code",
   "execution_count": 7,
   "metadata": {},
   "outputs": [
    {
     "name": "stdout",
     "output_type": "stream",
     "text": [
      "Printout of Individual Sections;\n",
      "Linears\n",
      "Domain:   [\u001b[36m\u001b[4mx\u001b[0m \u001b[34mm\u001b[0m=\u001b[33mm.8E\u001b[0m→]\n",
      "Morphism: [\u001b[36m\u001b[4mx\u001b[0m \u001b[34mm\u001b[0m=\u001b[33mm.8E\u001b[0m→Δ3]\n",
      "Object:   ([\u001b[36m\u001b[4mx\u001b[0m \u001b[34mm\u001b[0m=\u001b[33mm.8E\u001b[0m→], [\u001b[36m\u001b[4mx\u001b[0m \u001b[34mm\u001b[0m=\u001b[33mm.8E\u001b[0m→], [\u001b[36m\u001b[4mx\u001b[0m \u001b[34mm\u001b[0m=\u001b[33mm.8E\u001b[0m→])\n",
      "Morphism: ([\u001b[36m\u001b[4mx\u001b[0m→Lq], [\u001b[36m\u001b[4mx\u001b[0m→Lk], [\u001b[36m\u001b[4mx\u001b[0m→Lv])\n",
      "Object:   ([\u001b[36m\u001b[4mx\u001b[0m \u001b[34mk\u001b[0m=\u001b[33mk.25\u001b[0m \u001b[34mh\u001b[0m=\u001b[33mh.3B\u001b[0m→], [\u001b[36m\u001b[4mx\u001b[0m \u001b[34mk\u001b[0m=\u001b[33mk.25\u001b[0m \u001b[34mh\u001b[0m=\u001b[33mh.3B\u001b[0m→], [\u001b[36m\u001b[4mx\u001b[0m \u001b[34mk\u001b[0m=\u001b[33mk.25\u001b[0m \u001b[34mh\u001b[0m=\u001b[33mh.3B\u001b[0m→])\n",
      "Einops\n",
      "Domain:   ([\u001b[34mq\u001b[0m=\u001b[33mq\u001b[0m \u001b[34mk\u001b[0m=\u001b[33mk.7C\u001b[0m \u001b[34mh\u001b[0m=\u001b[33mh.ED\u001b[0m→], [\u001b[34mx\u001b[0m=\u001b[33mx.E7\u001b[0m \u001b[34mk\u001b[0m=\u001b[33mk.7C\u001b[0m \u001b[34mh\u001b[0m=\u001b[33mh.ED\u001b[0m→], \u001b[34m\u001b[0m=\u001b[33m.D4\u001b[0m)\n",
      "Morphism: (\u001b[32m\u001b[4mq k h, x k h -> q x h\u001b[0m, \u001b[34m\u001b[0m=\u001b[33m.D4\u001b[0m)\n",
      "Object:   ([\u001b[34mq\u001b[0m=\u001b[33mq\u001b[0m \u001b[34mx\u001b[0m=\u001b[33mx.E7\u001b[0m \u001b[34mh\u001b[0m=\u001b[33mh.ED\u001b[0m→], \u001b[34m\u001b[0m=\u001b[33m.D4\u001b[0m)\n",
      "SoftMax + Einops\n",
      "Domain:   ([\u001b[36m\u001b[4mx\u001b[0m \u001b[34m*\u001b[0m=\u001b[33mx.F8\u001b[0m \u001b[34m\u001b[0m=\u001b[33mh.16\u001b[0m→], [\u001b[34mx\u001b[0m=\u001b[33mx.F8\u001b[0m \u001b[34mk\u001b[0m=\u001b[33mk.E5\u001b[0m \u001b[34mh\u001b[0m=\u001b[33mh.16\u001b[0m→])\n",
      "Morphism: ([\u001b[36m\u001b[4mx\u001b[0m→\u001b[32m\u001b[4m◁\u001b[0m←\u001b[34m\u001b[0m=\u001b[33mh.16\u001b[0m], [\u001b[34mx\u001b[0m=\u001b[33mx.F8\u001b[0m \u001b[34mk\u001b[0m=\u001b[33mk.E5\u001b[0m \u001b[34mh\u001b[0m=\u001b[33mh.16\u001b[0m→])\n",
      "Object:   ([\u001b[36m\u001b[4mx\u001b[0m \u001b[34m*\u001b[0m=\u001b[33mx.F8\u001b[0m \u001b[34m\u001b[0m=\u001b[33mh.16\u001b[0m→], [\u001b[34mx\u001b[0m=\u001b[33mx.F8\u001b[0m \u001b[34mk\u001b[0m=\u001b[33mk.E5\u001b[0m \u001b[34mh\u001b[0m=\u001b[33mh.16\u001b[0m→])\n",
      "Morphism: \u001b[32m\u001b[4mq x h, x k h -> q k h\u001b[0m\n",
      "Object:   [\u001b[36m\u001b[4mx\u001b[0m \u001b[34mk\u001b[0m=\u001b[33mk.E5\u001b[0m \u001b[34mh\u001b[0m=\u001b[33mh.16\u001b[0m→]\n",
      "Linear\n",
      "Domain:   [\u001b[34mk\u001b[0m=\u001b[33mk.98\u001b[0m \u001b[34mh\u001b[0m=\u001b[33mh.D1\u001b[0m→]\n",
      "Morphism: Lo\n",
      "Object:   [\u001b[34mm\u001b[0m=\u001b[33mm.8E\u001b[0m→]\n"
     ]
    }
   ],
   "source": [
    "from ncd import Duplicate, shape\n",
    "from ncd.nn import Einops, Linear, Addition, SoftMax\n",
    "\n",
    "# Multi-Headed Attention defined symbolically.\n",
    "# We piece together individual sections.\n",
    "# Upon composition, axes sizes are aligned!\n",
    "L = Linear\n",
    "m = shape('*m^')\n",
    "x = shape('x')\n",
    "\n",
    "linears = x >> (m @ (L('q') + L('k') + L('v')) @ '*k *h')\n",
    "einops = (Einops('q k h, x k h -> q x h') + '*')\n",
    "softs = ((x >> SoftMax() << '*') + '*') @ Einops('q x h, x k h -> q k h')\n",
    "linout = (shape('*k *h') @ L('o') @ m)\n",
    "\n",
    "# Note, the printout will contain tagged axes. These are configured\n",
    "# upon composition.\n",
    "section_names = ['Linears', 'Einops', 'SoftMax + Einops', 'Linear']\n",
    "sections = [linears, einops, softs, linout]\n",
    "print(\"Printout of Individual Sections;\")\n",
    "print('\\n'.join(starmap(display_columns, zip(sections, section_names))))"
   ]
  },
  {
   "cell_type": "code",
   "execution_count": 8,
   "metadata": {},
   "outputs": [
    {
     "name": "stdout",
     "output_type": "stream",
     "text": [
      "Domain:   [\u001b[36m\u001b[4mx\u001b[0m \u001b[34mm\u001b[0m=\u001b[33mm.8E\u001b[0m→]\n",
      "Morphism: [\u001b[36m\u001b[4mx\u001b[0m \u001b[34mm\u001b[0m=\u001b[33mm.8E\u001b[0m→Δ3]\n",
      "Object:   ([\u001b[36m\u001b[4mx\u001b[0m \u001b[34mm\u001b[0m=\u001b[33mm.8E\u001b[0m→], [\u001b[36m\u001b[4mx\u001b[0m \u001b[34mm\u001b[0m=\u001b[33mm.8E\u001b[0m→], [\u001b[36m\u001b[4mx\u001b[0m \u001b[34mm\u001b[0m=\u001b[33mm.8E\u001b[0m→])\n",
      "Morphism: ([\u001b[36m\u001b[4mx\u001b[0m→Lq], [\u001b[36m\u001b[4mx\u001b[0m→Lk], [\u001b[36m\u001b[4mx\u001b[0m→Lv])\n",
      "Object:   ([\u001b[36m\u001b[4mx\u001b[0m \u001b[34mk\u001b[0m=\u001b[33mk.E5\u001b[0m \u001b[34mh\u001b[0m=\u001b[33mh.ED\u001b[0m→], [\u001b[36m\u001b[4mx\u001b[0m \u001b[34mk\u001b[0m=\u001b[33mk.E5\u001b[0m \u001b[34mh\u001b[0m=\u001b[33mh.ED\u001b[0m→], [\u001b[36m\u001b[4mx\u001b[0m \u001b[34mk\u001b[0m=\u001b[33mk.E5\u001b[0m \u001b[34mh\u001b[0m=\u001b[33mh.ED\u001b[0m→])\n",
      "Morphism: (\u001b[32m\u001b[4mq k h, x k h -> q x h\u001b[0m, [\u001b[36m\u001b[4mx\u001b[0m \u001b[34mk\u001b[0m=\u001b[33mk.E5\u001b[0m \u001b[34mh\u001b[0m=\u001b[33mh.ED\u001b[0m→])\n",
      "Object:   ([\u001b[36m\u001b[4mx\u001b[0m \u001b[36m\u001b[4mx\u001b[0m \u001b[34mh\u001b[0m=\u001b[33mh.ED\u001b[0m→], [\u001b[36m\u001b[4mx\u001b[0m \u001b[34mk\u001b[0m=\u001b[33mk.E5\u001b[0m \u001b[34mh\u001b[0m=\u001b[33mh.ED\u001b[0m→])\n",
      "Morphism: ([\u001b[36m\u001b[4mx\u001b[0m→\u001b[32m\u001b[4m◁\u001b[0m←\u001b[34m\u001b[0m=\u001b[33mh.ED\u001b[0m], [\u001b[36m\u001b[4mx\u001b[0m \u001b[34mk\u001b[0m=\u001b[33mk.E5\u001b[0m \u001b[34mh\u001b[0m=\u001b[33mh.ED\u001b[0m→])\n",
      "Object:   ([\u001b[36m\u001b[4mx\u001b[0m \u001b[36m\u001b[4mx\u001b[0m \u001b[34m\u001b[0m=\u001b[33mh.ED\u001b[0m→], [\u001b[36m\u001b[4mx\u001b[0m \u001b[34mk\u001b[0m=\u001b[33mk.E5\u001b[0m \u001b[34mh\u001b[0m=\u001b[33mh.ED\u001b[0m→])\n",
      "Morphism: \u001b[32m\u001b[4mq x h, x k h -> q k h\u001b[0m\n",
      "Object:   [\u001b[36m\u001b[4mx\u001b[0m \u001b[34mk\u001b[0m=\u001b[33mk.E5\u001b[0m \u001b[34mh\u001b[0m=\u001b[33mh.ED\u001b[0m→]\n",
      "Morphism: [\u001b[36m\u001b[4mx\u001b[0m→Lo]\n",
      "Object:   [\u001b[36m\u001b[4mx\u001b[0m \u001b[34mm\u001b[0m=\u001b[33mm.8E\u001b[0m→]\n"
     ]
    }
   ],
   "source": [
    "multihead = linears @ einops @ softs @ (shape('*k *h') @ L('o') @ m)\n",
    "\n",
    "print(display_columns(multihead))"
   ]
  },
  {
   "cell_type": "code",
   "execution_count": 9,
   "metadata": {},
   "outputs": [
    {
     "name": "stdout",
     "output_type": "stream",
     "text": [
      "{\u001b[33mk.E5\u001b[0m, \u001b[33mm.8E\u001b[0m, \u001b[33mh.ED\u001b[0m}\n"
     ]
    }
   ],
   "source": [
    "# We can use the \"GetConfig\" functor to accumulate the\n",
    "# unassigned variables in its internal state. This allows\n",
    "# us to quickly generate configuration parameters from an\n",
    "# expression.\n",
    "config = ncd.GetConfig()\n",
    "config(multihead)\n",
    "print(config.configs)"
   ]
  },
  {
   "cell_type": "code",
   "execution_count": 10,
   "metadata": {},
   "outputs": [
    {
     "name": "stdout",
     "output_type": "stream",
     "text": [
      "class MultiHeadAttention(nn.Module):\n",
      "    def __init__(self, k, m, h):\n",
      "        self.Lq = Multilinear((m),(k, h))\n",
      "        self.Lk = Multilinear((m),(k, h))\n",
      "        self.Lv = Multilinear((m),(k, h))\n",
      "        self.Lo = Multilinear((k, h),(m))\n",
      "    def forward(self, a):\n",
      "        a, b, c = a, a, a\n",
      "        a = Lq(a)\n",
      "        b = Lk(b)\n",
      "        c = Lv(c)\n",
      "        a = einops.einsum(a, b, \"q k h, x k h -> q x h\")\n",
      "        a = torch.softmax(a, dim=-2)\n",
      "        a = einops.einsum(a, c, \"q x h, x k h -> q k h\")\n",
      "        a = Lo(a)\n",
      "        return a\n"
     ]
    }
   ],
   "source": [
    "# Marches is a package for compiling code.\n",
    "# Here, it generate code for multi-headed attention.\n",
    "import ncd.marches\n",
    "\n",
    "print(ncd.marches.to_torch(multihead, \"MultiHeadAttention\"))"
   ]
  }
 ],
 "metadata": {
  "kernelspec": {
   "display_name": "Python 3",
   "language": "python",
   "name": "python3"
  },
  "language_info": {
   "codemirror_mode": {
    "name": "ipython",
    "version": 3
   },
   "file_extension": ".py",
   "mimetype": "text/x-python",
   "name": "python",
   "nbconvert_exporter": "python",
   "pygments_lexer": "ipython3",
   "version": "3.12.3"
  }
 },
 "nbformat": 4,
 "nbformat_minor": 2
}
